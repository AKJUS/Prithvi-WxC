{
 "cells": [
  {
   "cell_type": "code",
   "execution_count": 1,
   "id": "5ef6e52a-2423-45eb-b4b6-5afffa411721",
   "metadata": {},
   "outputs": [],
   "source": [
    "import cartopy.crs as ccrs\n",
    "import cartopy.feature as cfeature\n",
    "import matplotlib.pyplot as plt\n",
    "import numpy as np\n",
    "import pandas as pd\n",
    "\n",
    "import xarray as xr\n",
    "from glob import glob"
   ]
  },
  {
   "cell_type": "code",
   "execution_count": 3,
   "id": "4b1744bd-582f-4a30-8734-96650d401295",
   "metadata": {},
   "outputs": [],
   "source": [
    "path = \"/dccstor/sallesd1/datasets/hurricanes/MERRA2.const_2d_ctm_Nx.00000000\"\n",
    "ds = xr.open_dataset(path + \".nc4\")"
   ]
  },
  {
   "cell_type": "code",
   "execution_count": 4,
   "id": "4695b2d7-f4be-4a65-8d46-7def345293c0",
   "metadata": {},
   "outputs": [],
   "source": [
    "ds_small = ds.sel(lat=slice(30, 45), lon=slice(-100, -70))\n",
    "da = ds_small[list(ds_small.data_vars)[0]]"
   ]
  },
  {
   "cell_type": "code",
   "execution_count": null,
   "id": "bcaf858c-187c-45cf-8ef8-f1ad2a678cf1",
   "metadata": {},
   "outputs": [],
   "source": [
    "lat = da.lat.values\n",
    "lon = da.lon.values\n",
    "lon2d, lat2d = np.meshgrid(lon, lat)\n",
    "fig, ax = plt.subplots(subplot_kw={'projection': ccrs.PlateCarree()})\n",
    "ax.coastlines()\n",
    "ax.gridlines(draw_labels=True)\n",
    "if len(da.values.shape) == 4:\n",
    "    mesh = ax.pcolormesh(lon2d, lat2d, da.values[0, 0, :, :], transform=ccrs.PlateCarree(), cmap='viridis')\n",
    "elif len(da.values.shape) == 3:\n",
    "    mesh = ax.pcolormesh(lon2d, lat2d, da.values[0, :, :], transform=ccrs.PlateCarree(), cmap='viridis')\n",
    "else:\n",
    "    raise ValueError()\n",
    "ax.add_feature(cfeature.LAND, facecolor='lightgray')\n",
    "plt.show()"
   ]
  },
  {
   "cell_type": "code",
   "execution_count": null,
   "id": "369fe489-53bd-45b3-9426-06e50c617be8",
   "metadata": {},
   "outputs": [],
   "source": [
    "encoding = {cvar: {\"zlib\": True, \"complevel\": 9} for cvar in ds_small.data_vars}\n",
    "ds_small.to_netcdf(path + \"SMALL.nc4\", mode=\"w\", encoding=encoding)"
   ]
  },
  {
   "cell_type": "code",
   "execution_count": null,
   "id": "abb0c6ea-0557-484f-a3dd-1d62f9e5937a",
   "metadata": {},
   "outputs": [],
   "source": [
    "ds_new = xr.open_dataset(path + \"SMALL.nc4\")\n",
    "err = ds_new - ds_small\n",
    "for var in err.data_vars:\n",
    "    print(f\"{var}:\\t{err[var].sum().values}\")"
   ]
  },
  {
   "cell_type": "code",
   "execution_count": 16,
   "id": "aaf823ed-1e67-44fd-88ec-c0e94f042411",
   "metadata": {},
   "outputs": [],
   "source": [
    "gt = xr.open_dataset(\"/u/dchevita/projects/Prithvi-WxC/test/raw_data/MERRA_pres_20200330.gt\")\n",
    "ds = xr.open_dataset(\"/u/dchevita/projects/Prithvi-WxC/test/raw_data/MERRA2_400.inst3_3d_asm_Nv.20200330.nc4\")\n",
    "for var in gt.data_vars:\n",
    "    assert (gt[var]-ds[var]).sum().values == 0.0, f\"Error in variable: {var}\""
   ]
  },
  {
   "cell_type": "code",
   "execution_count": null,
   "id": "85c40f6c-e47f-4eee-a473-f5d8ec3da176",
   "metadata": {},
   "outputs": [],
   "source": []
  }
 ],
 "metadata": {
  "kernelspec": {
   "display_name": "Python 3 (ipykernel)",
   "language": "python",
   "name": "python3"
  },
  "language_info": {
   "codemirror_mode": {
    "name": "ipython",
    "version": 3
   },
   "file_extension": ".py",
   "mimetype": "text/x-python",
   "name": "python",
   "nbconvert_exporter": "python",
   "pygments_lexer": "ipython3",
   "version": "3.12.9"
  }
 },
 "nbformat": 4,
 "nbformat_minor": 5
}
